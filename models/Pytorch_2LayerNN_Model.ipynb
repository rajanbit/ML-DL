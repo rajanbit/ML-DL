{
 "cells": [
  {
   "cell_type": "markdown",
   "id": "4bc8c33b",
   "metadata": {},
   "source": [
    "# Pytorch Neural Network Model for Classification"
   ]
  },
  {
   "cell_type": "code",
   "execution_count": 1,
   "id": "8cd557d7",
   "metadata": {},
   "outputs": [],
   "source": [
    "# Importing modules\n",
    "import numpy as np\n",
    "import torch\n",
    "import torch.nn as nn\n",
    "from sklearn.datasets import make_classification\n",
    "from sklearn.model_selection import train_test_split\n",
    "from torch.utils.data import Dataset, DataLoader\n",
    "from sklearn.metrics import classification_report"
   ]
  },
  {
   "cell_type": "code",
   "execution_count": 2,
   "id": "324963d1",
   "metadata": {},
   "outputs": [],
   "source": [
    "# Setting up device\n",
    "device = \"cuda\" if torch.cuda.is_available() else \"cpu\"\n",
    "device= torch.device(device)\n",
    "\n",
    "# Creating synthetic data for classification\n",
    "X, y = make_classification( n_samples=100, n_features=4, n_redundant=0,\n",
    "                            n_informative=2,  n_clusters_per_class=2, n_classes=2)\n",
    "\n",
    "# Train test split\n",
    "X_train, X_test, y_train, y_test = train_test_split(X, y, test_size=0.20, random_state=42)"
   ]
  },
  {
   "cell_type": "code",
   "execution_count": 3,
   "id": "759825eb",
   "metadata": {},
   "outputs": [],
   "source": [
    "# Class for converting data to pytorch tensor\n",
    "class ToTensorData(Dataset):\n",
    "    def __init__(self, X, y):\n",
    "        self.X = torch.from_numpy(X.astype(np.float32))\n",
    "        self.y = torch.from_numpy(y.astype(np.float32))\n",
    "        self.len = self.X.shape[0]\n",
    "       \n",
    "    def __getitem__(self, index):\n",
    "        return self.X[index], self.y[index]\n",
    "   \n",
    "    def __len__(self):\n",
    "        return self.len\n",
    "\n",
    "# Converting data to tensor\n",
    "data = {\"train_data\": ToTensorData(X_train, y_train), \n",
    "        \"test_data\":ToTensorData(X_test, y_test)}\n",
    "\n",
    "# Dataloader\n",
    "dataloader = {\"training\":DataLoader(dataset=data[\"train_data\"], batch_size=32, shuffle=True),\n",
    "              \"testing\":DataLoader(dataset=data[\"test_data\"], batch_size=32)}"
   ]
  },
  {
   "cell_type": "code",
   "execution_count": 4,
   "id": "2f5bb393",
   "metadata": {},
   "outputs": [],
   "source": [
    "# Model\n",
    "model = nn.Sequential(nn.Linear(4, 4), nn.Sigmoid(), # Hidden layer-1\n",
    "                      nn.Linear(4, 1), nn.Sigmoid()  # Hidden layer-2\n",
    "                     ).to(device)\n",
    "\n",
    "# Model parameters\n",
    "loss_fn = nn.BCELoss()\n",
    "optimizer = torch.optim.SGD(model.parameters(), lr=0.001)"
   ]
  },
  {
   "cell_type": "code",
   "execution_count": 5,
   "id": "03447617",
   "metadata": {},
   "outputs": [],
   "source": [
    "# Training\n",
    "for epoch in range(1000):\n",
    "    for X, y in dataloader[\"training\"]:\n",
    "        optimizer.zero_grad()\n",
    "        pred = model(X)\n",
    "        loss = loss_fn(pred, y.unsqueeze(-1))\n",
    "        loss.backward()\n",
    "        optimizer.step()"
   ]
  },
  {
   "cell_type": "code",
   "execution_count": 6,
   "id": "1d3546f7",
   "metadata": {},
   "outputs": [
    {
     "name": "stdout",
     "output_type": "stream",
     "text": [
      "              precision    recall  f1-score   support\n",
      "\n",
      "         0.0       0.67      0.89      0.76         9\n",
      "         1.0       0.88      0.64      0.74        11\n",
      "\n",
      "    accuracy                           0.75        20\n",
      "   macro avg       0.77      0.76      0.75        20\n",
      "weighted avg       0.78      0.75      0.75        20\n",
      "\n"
     ]
    }
   ],
   "source": [
    "# Testing\n",
    "with torch.no_grad():\n",
    "    for X, y in dataloader[\"testing\"]:\n",
    "        y_test = y\n",
    "        outputs = model(X)\n",
    "        y_pred = [1 if y >= 0.5 else 0 for y in outputs]\n",
    "        print(classification_report(y, y_pred))"
   ]
  }
 ],
 "metadata": {
  "kernelspec": {
   "display_name": "Python 3 (ipykernel)",
   "language": "python",
   "name": "python3"
  },
  "language_info": {
   "codemirror_mode": {
    "name": "ipython",
    "version": 3
   },
   "file_extension": ".py",
   "mimetype": "text/x-python",
   "name": "python",
   "nbconvert_exporter": "python",
   "pygments_lexer": "ipython3",
   "version": "3.11.0"
  }
 },
 "nbformat": 4,
 "nbformat_minor": 5
}
