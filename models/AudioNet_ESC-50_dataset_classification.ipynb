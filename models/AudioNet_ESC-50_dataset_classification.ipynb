{
 "cells": [
  {
   "cell_type": "code",
   "execution_count": 1,
   "id": "b6ef9063-e360-4a27-abb6-5a0c917c79f4",
   "metadata": {},
   "outputs": [],
   "source": [
    "# Importing modules\n",
    "import glob\n",
    "import torch\n",
    "import torchaudio\n",
    "from collections import Counter\n",
    "from torch.utils.data import DataLoader, Dataset\n",
    "from torch import nn, optim"
   ]
  },
  {
   "cell_type": "code",
   "execution_count": 2,
   "id": "66f1f594-8976-48cf-ac5f-c5f1c127334e",
   "metadata": {},
   "outputs": [],
   "source": [
    "# Custom dataset\n",
    "class datasets(Dataset):\n",
    "    def __init__(self, path):\n",
    "        files = glob.glob(f\"{path}*.wav\")\n",
    "        self.items = [(f,int(f.split(\"-\")[-1].split(\".\")[0])) for f in files]\n",
    "        self.length = len(self.items)\n",
    "\n",
    "    def __getitem__(self, index):\n",
    "        filename, label = self.items[index]\n",
    "        audio_tensor, sampling_rate = torchaudio.load(filename)\n",
    "        label_tensor = torch.tensor(label)\n",
    "        return audio_tensor, label_tensor\n",
    "        \n",
    "    def __len__(self):\n",
    "        return self.length"
   ]
  },
  {
   "cell_type": "code",
   "execution_count": 3,
   "id": "9ac41cdc-2589-4b67-912d-433da97f4cc5",
   "metadata": {},
   "outputs": [],
   "source": [
    "# Datasets\n",
    "train_dataset = datasets(\"train_dir/\")\n",
    "val_dataset = datasets(\"val_dir/\")\n",
    "\n",
    "# Dataloaders\n",
    "train_dataloader = DataLoader(train_dataset, batch_size=32, shuffle=True)\n",
    "val_dataloader = DataLoader(val_dataset, batch_size=32, shuffle=True)"
   ]
  },
  {
   "cell_type": "code",
   "execution_count": 4,
   "id": "857b5119-4411-464c-bc38-935be0a528f9",
   "metadata": {},
   "outputs": [],
   "source": [
    "# AudioNet Model\n",
    "class AudioNet(nn.Module):\n",
    "    \n",
    "    def __init__(self):\n",
    "        super(AudioNet, self).__init__()\n",
    "        self.conv1 = nn.Conv1d(1, 128, 80, 4)\n",
    "        self.bn1 = nn.BatchNorm1d(128)\n",
    "        self.relu1 = nn.ReLU()\n",
    "        self.pool1 = nn.MaxPool1d(4)\n",
    "        self.conv2 = nn.Conv1d(128, 128, 3)\n",
    "        self.bn2 = nn.BatchNorm1d(128)\n",
    "        self.relu2 = nn.ReLU()\n",
    "        self.pool2 = nn.MaxPool1d(4)\n",
    "        self.conv3 = nn.Conv1d(128, 256, 3)\n",
    "        self.bn3 = nn.BatchNorm1d(256)\n",
    "        self.relu3 = nn.ReLU()\n",
    "        self.pool3 = nn.MaxPool1d(4)\n",
    "        self.conv4 = nn.Conv1d(256, 512, 3)\n",
    "        self.bn4 = nn.BatchNorm1d(512)\n",
    "        self.relu4 = nn.ReLU()\n",
    "        self.pool4 = nn.MaxPool1d(4)\n",
    "        self.avgpool = nn.AdaptiveAvgPool1d(1)\n",
    "        self.fc1 = nn.Linear(512, 50)\n",
    "        \n",
    "    def forward(self, x):\n",
    "        x = self.conv1(x)\n",
    "        x = self.relu1(self.bn1(x))\n",
    "        x = self.pool1(x)\n",
    "        x = self.conv2(x)\n",
    "        x = self.relu2(self.bn2(x))\n",
    "        x = self.pool2(x)\n",
    "        x = self.conv3(x)\n",
    "        x = self.relu3(self.bn3(x))\n",
    "        x = self.pool3(x)\n",
    "        x = self.conv4(x)\n",
    "        x = self.relu4(self.bn4(x))\n",
    "        x = self.pool4(x)\n",
    "        x = self.avgpool(x)\n",
    "        x = x.view(x.size(0), -1)  # Flatten the tensor\n",
    "        x = self.fc1(x)\n",
    "        return nn.LogSoftmax(dim=1)(x)"
   ]
  },
  {
   "cell_type": "code",
   "execution_count": 5,
   "id": "a3445edb-2336-47aa-9072-712c49d3e2c8",
   "metadata": {},
   "outputs": [],
   "source": [
    "# Model\n",
    "model = AudioNet()\n",
    "model = model.to(torch.device(\"cpu\"))\n",
    "\n",
    "# Optimizer\n",
    "optimizer = optim.Adam(model.parameters(), lr=0.001)\n",
    "\n",
    "# Loss function\n",
    "criterion = nn.CrossEntropyLoss()"
   ]
  },
  {
   "cell_type": "code",
   "execution_count": 6,
   "id": "ef4c99af-e542-466d-bdce-62d80ea85730",
   "metadata": {},
   "outputs": [
    {
     "name": "stdout",
     "output_type": "stream",
     "text": [
      "Epoch: 1 | Validation loss: 3.9388858721806455\n",
      "Epoch: 2 | Validation loss: 4.003377125813411\n",
      "Epoch: 3 | Validation loss: 3.701098295358511\n",
      "Epoch: 4 | Validation loss: 3.356357849561251\n",
      "Epoch: 5 | Validation loss: 3.1326538966252255\n",
      "Epoch: 6 | Validation loss: 3.059098848929772\n",
      "Epoch: 7 | Validation loss: 3.07684326171875\n",
      "Epoch: 8 | Validation loss: 2.9576371082892785\n",
      "Epoch: 9 | Validation loss: 2.9602874792539158\n",
      "Epoch: 10 | Validation loss: 3.208728606884296\n"
     ]
    }
   ],
   "source": [
    "# Training\n",
    "for epoch in range(1, 11):\n",
    "    \n",
    "    # Training loop\n",
    "    model.train()\n",
    "    for batch in train_dataloader:\n",
    "        optimizer.zero_grad()\n",
    "        X, y = batch\n",
    "        X, y = X.to(torch.device(\"cpu\")), y.to(torch.device(\"cpu\"))\n",
    "        y_hat = model(X)\n",
    "        loss = criterion(y_hat, y)\n",
    "        loss.backward()\n",
    "        optimizer.step()\n",
    "        \n",
    "    # Validation loop\n",
    "    val_loss = 0\n",
    "    model.eval()\n",
    "    with torch.no_grad():\n",
    "        for batch in val_dataloader:\n",
    "            X, y = batch\n",
    "            X, y = X.to(torch.device(\"cpu\")), y.to(torch.device(\"cpu\"))\n",
    "            y_hat = model(X)\n",
    "            loss = criterion(y_hat, y)\n",
    "            val_loss += loss.item()\n",
    "    \n",
    "    # Logging\n",
    "    val_loss = val_loss/len(val_dataloader)\n",
    "    print(f\"Epoch: {epoch} | Validation loss: {val_loss}\")"
   ]
  }
 ],
 "metadata": {
  "kernelspec": {
   "display_name": "Python 3 (ipykernel)",
   "language": "python",
   "name": "python3"
  },
  "language_info": {
   "codemirror_mode": {
    "name": "ipython",
    "version": 3
   },
   "file_extension": ".py",
   "mimetype": "text/x-python",
   "name": "python",
   "nbconvert_exporter": "python",
   "pygments_lexer": "ipython3",
   "version": "3.10.14"
  }
 },
 "nbformat": 4,
 "nbformat_minor": 5
}
