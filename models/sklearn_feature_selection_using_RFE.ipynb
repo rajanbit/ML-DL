{
 "cells": [
  {
   "cell_type": "markdown",
   "id": "7d8736e1",
   "metadata": {},
   "source": [
    "# Improving model accuracy using feature selection\n",
    "Dataset: Heart Disease Dataset (https://www.kaggle.com/datasets/johnsmith88/heart-disease-dataset/data)"
   ]
  },
  {
   "cell_type": "markdown",
   "id": "475fdbb8",
   "metadata": {},
   "source": [
    "### 1. Prerequisites"
   ]
  },
  {
   "cell_type": "code",
   "execution_count": 1,
   "id": "619a83ad",
   "metadata": {},
   "outputs": [],
   "source": [
    "# Importing modules\n",
    "import pandas as pd\n",
    "from sklearn.model_selection import train_test_split\n",
    "from sklearn.preprocessing import StandardScaler\n",
    "from sklearn.linear_model import LogisticRegression\n",
    "from sklearn.feature_selection import RFE\n",
    "from sklearn.metrics import classification_report"
   ]
  },
  {
   "cell_type": "markdown",
   "id": "92f97da0",
   "metadata": {},
   "source": [
    "### 2. Data Loading"
   ]
  },
  {
   "cell_type": "code",
   "execution_count": 2,
   "id": "eeff6acf",
   "metadata": {},
   "outputs": [],
   "source": [
    "# Reading data\n",
    "df = pd.read_csv(\"heart.csv\")\n",
    "\n",
    "# Feature matrix\n",
    "x = df.drop(\"target\", axis=1)\n",
    "\n",
    "# Target labels\n",
    "y = df[\"target\"]"
   ]
  },
  {
   "cell_type": "markdown",
   "id": "24b9dfaf",
   "metadata": {},
   "source": [
    "### 3. Preprocessing"
   ]
  },
  {
   "cell_type": "code",
   "execution_count": 3,
   "id": "a86107c5",
   "metadata": {},
   "outputs": [],
   "source": [
    "# Train test split\n",
    "x_train, x_test, y_train, y_test = train_test_split(x, y, test_size=0.2, random_state=42)\n",
    "\n",
    "# Feature scaling\n",
    "sds = StandardScaler()\n",
    "\n",
    "x_train = pd.DataFrame(sds.fit_transform(x_train), columns=x_train.columns)\n",
    "\n",
    "x_test = pd.DataFrame(sds.fit_transform(x_test), columns=x_test.columns)"
   ]
  },
  {
   "cell_type": "markdown",
   "id": "854b5dbf",
   "metadata": {},
   "source": [
    "### 4. ML without feature selection"
   ]
  },
  {
   "cell_type": "code",
   "execution_count": 4,
   "id": "4548ceec",
   "metadata": {},
   "outputs": [
    {
     "name": "stdout",
     "output_type": "stream",
     "text": [
      "              precision    recall  f1-score   support\n",
      "\n",
      "           0       0.84      0.69      0.76       102\n",
      "           1       0.74      0.87      0.80       103\n",
      "\n",
      "    accuracy                           0.78       205\n",
      "   macro avg       0.79      0.78      0.78       205\n",
      "weighted avg       0.79      0.78      0.78       205\n",
      "\n"
     ]
    }
   ],
   "source": [
    "# Model\n",
    "model = LogisticRegression()\n",
    "\n",
    "# Training\n",
    "model.fit(x_train, y_train)\n",
    "\n",
    "# Testing\n",
    "y_pred = model.predict(x_test)\n",
    "\n",
    "# Model performance\n",
    "print(classification_report(y_test, y_pred))"
   ]
  },
  {
   "cell_type": "markdown",
   "id": "6d318c85",
   "metadata": {},
   "source": [
    "### 5. ML with feature selection"
   ]
  },
  {
   "cell_type": "markdown",
   "id": "96663931",
   "metadata": {},
   "source": [
    "### 5.1. Feature selection"
   ]
  },
  {
   "cell_type": "code",
   "execution_count": 5,
   "id": "ff88ab66",
   "metadata": {},
   "outputs": [],
   "source": [
    "# Model\n",
    "model = LogisticRegression()\n",
    "\n",
    "# Feature selection using recursive feature elimination (RFE)\n",
    "selector = RFE(model, n_features_to_select=6)\n",
    "selector = selector.fit(x_train, y_train)\n",
    "selected_features = [x.columns[i] for i in range(len(x.columns)) if selector.support_[i] == True]\n",
    "\n",
    "# Feature matrix with selected features\n",
    "x_train_sel = x_train[selected_features]\n",
    "x_test_sel = x_test[selected_features]"
   ]
  },
  {
   "cell_type": "markdown",
   "id": "95b705d9",
   "metadata": {},
   "source": [
    "### 5.2. Machine learning"
   ]
  },
  {
   "cell_type": "code",
   "execution_count": 6,
   "id": "578e23a7",
   "metadata": {},
   "outputs": [
    {
     "name": "stdout",
     "output_type": "stream",
     "text": [
      "              precision    recall  f1-score   support\n",
      "\n",
      "           0       0.84      0.73      0.78       102\n",
      "           1       0.76      0.86      0.81       103\n",
      "\n",
      "    accuracy                           0.80       205\n",
      "   macro avg       0.80      0.79      0.79       205\n",
      "weighted avg       0.80      0.80      0.79       205\n",
      "\n"
     ]
    }
   ],
   "source": [
    "# Model\n",
    "model = LogisticRegression()\n",
    "\n",
    "# Training\n",
    "model.fit(x_train_sel, y_train)\n",
    "\n",
    "# Testing\n",
    "y_pred = model.predict(x_test_sel)\n",
    "\n",
    "# Model performance\n",
    "print(classification_report(y_test, y_pred))"
   ]
  },
  {
   "cell_type": "markdown",
   "id": "4a0ab99a",
   "metadata": {},
   "source": [
    "**Conclusion:** \n",
    "- From the classification report it can be seen that the accuracy of the model has increased post feature selection.\n",
    "- Better performance has been achieved using less number of features."
   ]
  }
 ],
 "metadata": {
  "kernelspec": {
   "display_name": "Python 3 (ipykernel)",
   "language": "python",
   "name": "python3"
  },
  "language_info": {
   "codemirror_mode": {
    "name": "ipython",
    "version": 3
   },
   "file_extension": ".py",
   "mimetype": "text/x-python",
   "name": "python",
   "nbconvert_exporter": "python",
   "pygments_lexer": "ipython3",
   "version": "3.11.0"
  }
 },
 "nbformat": 4,
 "nbformat_minor": 5
}
