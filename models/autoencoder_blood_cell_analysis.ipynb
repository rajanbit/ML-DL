{
 "cells": [
  {
   "cell_type": "code",
   "execution_count": 1,
   "id": "e91bdefa-0e57-4985-932a-6462fed99c6e",
   "metadata": {},
   "outputs": [],
   "source": [
    "# Importing modules\n",
    "import torch \n",
    "from torchvision import datasets, transforms\n",
    "from torch.utils.data import DataLoader\n",
    "from torch import nn, optim\n",
    "import matplotlib.pyplot as plt"
   ]
  },
  {
   "cell_type": "code",
   "execution_count": 2,
   "id": "ec3087f3-b3ca-4703-b5b0-20c94906a958",
   "metadata": {},
   "outputs": [],
   "source": [
    "# Image folder\n",
    "train_dir = \"train/\"\n",
    "\n",
    "# Transformation\n",
    "transformation = transforms.Compose(\n",
    "    [transforms.Resize(28), \n",
    "     transforms.Grayscale(), \n",
    "     transforms.ToTensor()]\n",
    ")\n",
    "\n",
    "# Dataset\n",
    "train_datasets = datasets.ImageFolder(train_dir, transformation)\n",
    "\n",
    "# Dataloader\n",
    "train_dataloader = DataLoader(train_datasets, batch_size=64)"
   ]
  },
  {
   "cell_type": "code",
   "execution_count": 3,
   "id": "bc65d807-d25a-4213-9a68-000471c2c6fb",
   "metadata": {},
   "outputs": [],
   "source": [
    "# AutoEncoder\n",
    "class AutoEncoder(nn.Module):\n",
    "\n",
    "    def __init__(self):\n",
    "        super(AutoEncoder, self).__init__()\n",
    "\n",
    "        # Neurons in bottleneck layer\n",
    "        self.n_bottleneck = 8\n",
    "\n",
    "        # Encoder Block\n",
    "        self.encoder = nn.Sequential(\n",
    "            nn.Linear(784, 256),\n",
    "            nn.ReLU(),\n",
    "            nn.Linear(256, self.n_bottleneck),\n",
    "            nn.ReLU()\n",
    "        )\n",
    "\n",
    "        # Decoder Block\n",
    "        self.decoder = nn.Sequential(\n",
    "            nn.Linear(self.n_bottleneck, 256),\n",
    "            nn.ReLU(),\n",
    "            nn.Linear(256, 784),\n",
    "            nn.Sigmoid()\n",
    "        )\n",
    "\n",
    "    def forward(self, x):\n",
    "        x = torch.flatten(x, start_dim=1)\n",
    "        encoded_x = self.encoder(x)\n",
    "        decoded_x = self.decoder(encoded_x)\n",
    "        return encoded_x, decoded_x   "
   ]
  },
  {
   "cell_type": "code",
   "execution_count": 4,
   "id": "d85b5b0c-bde8-4f01-86d9-9c8782ff1df1",
   "metadata": {},
   "outputs": [],
   "source": [
    "# Device\n",
    "device = torch.device(\"cpu\")\n",
    "\n",
    "# Model\n",
    "model = AutoEncoder()\n",
    "model = model.to(device)\n",
    "\n",
    "# Optimizer \n",
    "optimizer = optim.Adam(model.parameters(), lr=0.001)\n",
    "\n",
    "# Loss function\n",
    "criterion = nn.MSELoss()"
   ]
  },
  {
   "cell_type": "code",
   "execution_count": 5,
   "id": "6583d63c-92c6-4703-820b-6ad4a6a4240f",
   "metadata": {},
   "outputs": [
    {
     "name": "stdout",
     "output_type": "stream",
     "text": [
      "Epoch: 1 | Loss: 0.031240821229638876\n",
      "Epoch: 2 | Loss: 0.011958958615583402\n",
      "Epoch: 3 | Loss: 0.011053035656611124\n",
      "Epoch: 4 | Loss: 0.010864946473803785\n",
      "Epoch: 5 | Loss: 0.010855431220045796\n",
      "Epoch: 6 | Loss: 0.010860117531760975\n",
      "Epoch: 7 | Loss: 0.010826865383596332\n",
      "Epoch: 8 | Loss: 0.010787761080320235\n",
      "Epoch: 9 | Loss: 0.010724869798179026\n",
      "Epoch: 10 | Loss: 0.01070234100161879\n"
     ]
    }
   ],
   "source": [
    "# Training loop\n",
    "for epoch in range(10):\n",
    "    epoch_loss = 0\n",
    "    model.train()\n",
    "    for batch in train_dataloader:\n",
    "        optimizer.zero_grad()\n",
    "        X, _ = batch\n",
    "        X = X.to(device)\n",
    "        X_encoded, X_decoded = model(X)\n",
    "        loss = criterion(X_decoded, torch.flatten(X, start_dim=1))\n",
    "        loss.backward()\n",
    "        optimizer.step()\n",
    "        epoch_loss += loss.item()\n",
    "    print(f\"Epoch: {epoch+1} | Loss: {epoch_loss/len(train_dataloader)}\")"
   ]
  },
  {
   "cell_type": "code",
   "execution_count": 6,
   "id": "383023b2-16ba-4d06-b3a8-53451e4f3b1c",
   "metadata": {},
   "outputs": [
    {
     "data": {
      "image/png": "[encoded data removed]",
      "text/plain": [
       "<Figure size 640x480 with 1 Axes>"
      ]
     },
     "metadata": {},
     "output_type": "display_data"
    },
    {
     "data": {
      "image/png": "[encoded data removed]",
      "text/plain": [
       "<Figure size 640x480 with 1 Axes>"
      ]
     },
     "metadata": {},
     "output_type": "display_data"
    },
    {
     "name": "stdout",
     "output_type": "stream",
     "text": [
      "Encoded tensor: tensor([[0.0000, 0.0000, 0.0000, 2.9831, 0.0000, 0.0000, 0.0000, 3.1968]])\n"
     ]
    }
   ],
   "source": [
    "# Function for plotting image\n",
    "def plot_tensor(tensor, title):\n",
    "    tensor = tensor.reshape(28, 28)\n",
    "    plt.imshow(tensor.detach().numpy(), cmap='gray')\n",
    "    plt.title(title)\n",
    "    plt.show()\n",
    "\n",
    "# Image folder\n",
    "test_dir = \"test/\"\n",
    "\n",
    "# Test data\n",
    "test_datasets = datasets.ImageFolder(test_dir, transformation)\n",
    "X_test = test_datasets[0][0].to(device)\n",
    "\n",
    "# Testing\n",
    "model.eval()\n",
    "encoded, decoded = model(X_test)\n",
    "\n",
    "# Plotting output\n",
    "plot_tensor(X_test, \"Original Image\")\n",
    "plot_tensor(decoded, \"Generated Image\")\n",
    "print(f\"Encoded tensor: {encoded.detach()}\")"
   ]
  }
 ],
 "metadata": {
  "kernelspec": {
   "display_name": "Python 3 (ipykernel)",
   "language": "python",
   "name": "python3"
  },
  "language_info": {
   "codemirror_mode": {
    "name": "ipython",
    "version": 3
   },
   "file_extension": ".py",
   "mimetype": "text/x-python",
   "name": "python",
   "nbconvert_exporter": "python",
   "pygments_lexer": "ipython3",
   "version": "3.10.14"
  }
 },
 "nbformat": 4,
 "nbformat_minor": 5
}
