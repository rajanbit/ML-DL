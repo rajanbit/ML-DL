{
 "cells": [
  {
   "cell_type": "markdown",
   "id": "5d026d63",
   "metadata": {},
   "source": [
    "# Applying input feedback for continuous machine learning (CML)\n",
    "Dataset: Diabetes Dataset (https://www.kaggle.com/datasets/akshaydattatraykhare/diabetes-dataset)"
   ]
  },
  {
   "cell_type": "markdown",
   "id": "5f573d7e",
   "metadata": {},
   "source": [
    "### 1. Prerequisite"
   ]
  },
  {
   "cell_type": "code",
   "execution_count": 1,
   "id": "9c4ca5a9",
   "metadata": {},
   "outputs": [],
   "source": [
    "# Importinig modules\n",
    "import pandas as pd\n",
    "from sklearn.model_selection import train_test_split\n",
    "from sklearn.preprocessing import StandardScaler\n",
    "from sklearn.linear_model import LogisticRegression\n",
    "from sklearn.metrics import roc_curve, roc_auc_score\n",
    "import matplotlib.pyplot as plt"
   ]
  },
  {
   "cell_type": "code",
   "execution_count": 2,
   "id": "37afaed1",
   "metadata": {},
   "outputs": [],
   "source": [
    "# Function for plotting ROC curve\n",
    "def plot_ROC_curve(test, pred):\n",
    "    fpr, tpr, thresholds = roc_curve(test, pred)\n",
    "    auc = roc_auc_score(test, pred)\n",
    "    plt.plot(fpr, tpr, label='Model (AUC = %0.2f)' % auc)\n",
    "    plt.plot([0, 1], [0, 1], '--', color='r', label='Random')\n",
    "    plt.xlabel('False positive rate')\n",
    "    plt.ylabel('True positive rate')\n",
    "    plt.legend(loc='lower right')\n",
    "    plt.show()"
   ]
  },
  {
   "cell_type": "markdown",
   "id": "2f4e7f65",
   "metadata": {},
   "source": [
    "### 2. Data Loading"
   ]
  },
  {
   "cell_type": "code",
   "execution_count": 3,
   "id": "b5473b8e",
   "metadata": {},
   "outputs": [],
   "source": [
    "# Reading data\n",
    "df = pd.read_csv(\"diabetes.csv\")\n",
    "\n",
    "# Selecting particular columns\n",
    "df = df[[\"Age\", \"Glucose\", \"Outcome\"]]\n",
    "\n",
    "# Feature matrix\n",
    "x = df.drop(\"Outcome\", axis=1)\n",
    "\n",
    "# Target labels\n",
    "y = df[\"Outcome\"]"
   ]
  },
  {
   "cell_type": "markdown",
   "id": "b70a5bc1",
   "metadata": {},
   "source": [
    "### 3. Model Training and Validation "
   ]
  },
  {
   "cell_type": "code",
   "execution_count": 4,
   "id": "d5f53377",
   "metadata": {},
   "outputs": [
    {
     "data": {
      "image/png": "[encoded data removed]",
      "text/plain": [
       "<Figure size 432x288 with 1 Axes>"
      ]
     },
     "metadata": {
      "needs_background": "light"
     },
     "output_type": "display_data"
    }
   ],
   "source": [
    "# Train test split\n",
    "x_train, x_val, y_train, y_val = train_test_split(x, y, test_size=0.2, random_state=42)\n",
    "\n",
    "# Feature scaler\n",
    "sds = StandardScaler()\n",
    "\n",
    "# Feature scaling (train and val set)\n",
    "x_train = sds.fit_transform(x_train)\n",
    "x_val = sds.transform(x_val)\n",
    "\n",
    "# Model\n",
    "model = LogisticRegression()\n",
    "\n",
    "# Training\n",
    "model.fit(x_train, y_train)\n",
    "\n",
    "# Validation\n",
    "y_pred = model.predict(x_val)\n",
    "\n",
    "# Validation output\n",
    "plot_ROC_curve(y_val, y_pred)"
   ]
  },
  {
   "cell_type": "markdown",
   "id": "c3c72519",
   "metadata": {},
   "source": [
    "### 4. Model Testing"
   ]
  },
  {
   "cell_type": "code",
   "execution_count": 5,
   "id": "fa2b5f91",
   "metadata": {},
   "outputs": [],
   "source": [
    "# Test dataset\n",
    "df = pd.DataFrame(\n",
    "[[40,120,1,1],[40,121,1,1],[38,116,0,0],[38,124,0,0],\n",
    "[38,130,0,0],[38,121,0,0],[40,122,1,1],[40,120,1,1],\n",
    "[38,122,0,0],[38,120,0,0],[38,129,0,0],[38,158,0,0],\n",
    "[40,119,1,1],[39,108,1,1],[39,126,1,1],[39,128,1,1],\n",
    "[38,116,1,1],[38,104,1,1],[38,100,1,1],[38,121,1,1],\n",
    "[38,122,1,1],[38,120,1,1],[38,119,1,1],[38,118,1,1],\n",
    "[38,126,1,1],[38,118,1,1],[38,116,1,1],[38,124,1,1],\n",
    "[40,120,0,0],[40,141,0,0],[40,152,0,0],[40,120,0,0],\n",
    "[40,119,0,0],[39,118,0,0],[39,126,0,0],[39,118,0,0],\n",
    "[38,126,0,0],[38,118,0,0],[38,116,0,0],[38,124,0,0]], \n",
    "columns=[\"Age\",\"Glucose\",\"On_Insulin\",\"Outcome\"])"
   ]
  },
  {
   "cell_type": "markdown",
   "id": "cb702384",
   "metadata": {},
   "source": [
    "### 4.1. Test Data Summary\n",
    "\n",
    "- Test data has an additional column i.e. On_Insulin (0: not on_insulin and 1: on_insulin).\n",
    "- In the test data the Glucose value of diabetic patients were kept normal if they are on insulin."
   ]
  },
  {
   "cell_type": "code",
   "execution_count": 6,
   "id": "1f99080a",
   "metadata": {},
   "outputs": [
    {
     "data": {
      "text/html": [
       "<div>\n",
       "<style scoped>\n",
       "    .dataframe tbody tr th:only-of-type {\n",
       "        vertical-align: middle;\n",
       "    }\n",
       "\n",
       "    .dataframe tbody tr th {\n",
       "        vertical-align: top;\n",
       "    }\n",
       "\n",
       "    .dataframe thead th {\n",
       "        text-align: right;\n",
       "    }\n",
       "</style>\n",
       "<table border=\"1\" class=\"dataframe\">\n",
       "  <thead>\n",
       "    <tr style=\"text-align: right;\">\n",
       "      <th></th>\n",
       "      <th>Age</th>\n",
       "      <th>Glucose</th>\n",
       "      <th>On_Insulin</th>\n",
       "      <th>Outcome</th>\n",
       "    </tr>\n",
       "  </thead>\n",
       "  <tbody>\n",
       "    <tr>\n",
       "      <th>0</th>\n",
       "      <td>40</td>\n",
       "      <td>120</td>\n",
       "      <td>1</td>\n",
       "      <td>1</td>\n",
       "    </tr>\n",
       "    <tr>\n",
       "      <th>1</th>\n",
       "      <td>40</td>\n",
       "      <td>121</td>\n",
       "      <td>1</td>\n",
       "      <td>1</td>\n",
       "    </tr>\n",
       "    <tr>\n",
       "      <th>2</th>\n",
       "      <td>38</td>\n",
       "      <td>116</td>\n",
       "      <td>0</td>\n",
       "      <td>0</td>\n",
       "    </tr>\n",
       "    <tr>\n",
       "      <th>3</th>\n",
       "      <td>38</td>\n",
       "      <td>124</td>\n",
       "      <td>0</td>\n",
       "      <td>0</td>\n",
       "    </tr>\n",
       "    <tr>\n",
       "      <th>4</th>\n",
       "      <td>38</td>\n",
       "      <td>130</td>\n",
       "      <td>0</td>\n",
       "      <td>0</td>\n",
       "    </tr>\n",
       "    <tr>\n",
       "      <th>5</th>\n",
       "      <td>38</td>\n",
       "      <td>121</td>\n",
       "      <td>0</td>\n",
       "      <td>0</td>\n",
       "    </tr>\n",
       "    <tr>\n",
       "      <th>6</th>\n",
       "      <td>40</td>\n",
       "      <td>122</td>\n",
       "      <td>1</td>\n",
       "      <td>1</td>\n",
       "    </tr>\n",
       "    <tr>\n",
       "      <th>7</th>\n",
       "      <td>40</td>\n",
       "      <td>120</td>\n",
       "      <td>1</td>\n",
       "      <td>1</td>\n",
       "    </tr>\n",
       "    <tr>\n",
       "      <th>8</th>\n",
       "      <td>38</td>\n",
       "      <td>122</td>\n",
       "      <td>0</td>\n",
       "      <td>0</td>\n",
       "    </tr>\n",
       "    <tr>\n",
       "      <th>9</th>\n",
       "      <td>38</td>\n",
       "      <td>120</td>\n",
       "      <td>0</td>\n",
       "      <td>0</td>\n",
       "    </tr>\n",
       "  </tbody>\n",
       "</table>\n",
       "</div>"
      ],
      "text/plain": [
       "   Age  Glucose  On_Insulin  Outcome\n",
       "0   40      120           1        1\n",
       "1   40      121           1        1\n",
       "2   38      116           0        0\n",
       "3   38      124           0        0\n",
       "4   38      130           0        0\n",
       "5   38      121           0        0\n",
       "6   40      122           1        1\n",
       "7   40      120           1        1\n",
       "8   38      122           0        0\n",
       "9   38      120           0        0"
      ]
     },
     "execution_count": 6,
     "metadata": {},
     "output_type": "execute_result"
    }
   ],
   "source": [
    "# Test data summary\n",
    "df.head(n=10)"
   ]
  },
  {
   "cell_type": "markdown",
   "id": "f82003c1",
   "metadata": {},
   "source": [
    "### 4.2. Testing without feedback"
   ]
  },
  {
   "cell_type": "code",
   "execution_count": 7,
   "id": "dedb1f67",
   "metadata": {},
   "outputs": [
    {
     "data": {
      "image/png": "[encoded data removed]",
      "text/plain": [
       "<Figure size 432x288 with 1 Axes>"
      ]
     },
     "metadata": {
      "needs_background": "light"
     },
     "output_type": "display_data"
    }
   ],
   "source": [
    "# Feature matrix\n",
    "x_test = df.drop([\"On_Insulin\",\"Outcome\"], axis=1)\n",
    "\n",
    "# Target labels\n",
    "y_test = df[\"Outcome\"]\n",
    "\n",
    "# Feature scaling (test set)\n",
    "x_test = sds.transform(x_test)\n",
    "\n",
    "# Testing\n",
    "y_pred = model.predict(x_test)\n",
    "\n",
    "# Test output\n",
    "plot_ROC_curve(y_test, y_pred)"
   ]
  },
  {
   "cell_type": "markdown",
   "id": "530ad067",
   "metadata": {},
   "source": [
    "### 4.3. Testing with feedback"
   ]
  },
  {
   "cell_type": "markdown",
   "id": "c7d5a0dc",
   "metadata": {},
   "source": [
    "### Feedback mechanism\n",
    "\n",
    "- The feedback was provided to the model using the On_Insulin column.\n",
    "- The Glucose value of diabetic patients (Outcome = 1) were increased by 50 if they are on insulin (On_Insulin = 1). This is done considering the fact that each unit of insulin cause blood sugar level to drop by 50 mg/dL."
   ]
  },
  {
   "cell_type": "code",
   "execution_count": 8,
   "id": "2cb38ae8",
   "metadata": {},
   "outputs": [
    {
     "data": {
      "image/png": "[encoded data removed]",
      "text/plain": [
       "<Figure size 432x288 with 1 Axes>"
      ]
     },
     "metadata": {
      "needs_background": "light"
     },
     "output_type": "display_data"
    }
   ],
   "source": [
    "# Feedback Condition\n",
    "df.loc[df.On_Insulin==1,\"Glucose\"] += 50\n",
    "\n",
    "# Feature matrix\n",
    "x_test = df.drop([\"On_Insulin\",\"Outcome\"], axis=1)\n",
    "\n",
    "# Target labels\n",
    "y_test = df[\"Outcome\"]\n",
    "\n",
    "# Feature scaling (test set)\n",
    "x_test = sds.transform(x_test)\n",
    "\n",
    "# Testing\n",
    "y_pred = model.predict(x_test)\n",
    "\n",
    "# Test output\n",
    "plot_ROC_curve(y_test, y_pred)"
   ]
  }
 ],
 "metadata": {
  "kernelspec": {
   "display_name": "Python 3 (ipykernel)",
   "language": "python",
   "name": "python3"
  },
  "language_info": {
   "codemirror_mode": {
    "name": "ipython",
    "version": 3
   },
   "file_extension": ".py",
   "mimetype": "text/x-python",
   "name": "python",
   "nbconvert_exporter": "python",
   "pygments_lexer": "ipython3",
   "version": "3.11.0"
  }
 },
 "nbformat": 4,
 "nbformat_minor": 5
}
