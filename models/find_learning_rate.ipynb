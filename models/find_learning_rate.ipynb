{
 "cells": [
  {
   "cell_type": "code",
   "execution_count": 1,
   "id": "a3cc3836",
   "metadata": {},
   "outputs": [],
   "source": [
    "# Importing modules\n",
    "import torch\n",
    "from torchvision import datasets, transforms\n",
    "from torch.utils.data import DataLoader\n",
    "from torch import nn, optim\n",
    "import math\n",
    "import matplotlib.pyplot as plt"
   ]
  },
  {
   "cell_type": "code",
   "execution_count": 2,
   "id": "b328ff85",
   "metadata": {},
   "outputs": [],
   "source": [
    "# Data dir\n",
    "data_dir = \"./train\"\n",
    "\n",
    "# Transformation\n",
    "transform = transforms.Compose([\n",
    "    transforms.Resize(64),\n",
    "    transforms.ToTensor(),\n",
    "    transforms.Normalize(mean = [0.485, 0.456, 0.406], std = [0.229, 0.224, 0.225])])\n",
    "\n",
    "# Datasets\n",
    "dataset = datasets.ImageFolder(data_dir, transform)\n",
    "\n",
    "# Dataloader\n",
    "dataloader = DataLoader(dataset, batch_size=32)\n",
    "\n",
    "# Device\n",
    "device = torch.device(\"cpu\")"
   ]
  },
  {
   "cell_type": "code",
   "execution_count": 3,
   "id": "fb022127",
   "metadata": {},
   "outputs": [],
   "source": [
    "# Model architecture\n",
    "class simpleNet(nn.Module):\n",
    "    \n",
    "    def __init__(self, n_classes = len(dataset.classes)):\n",
    "                 super(simpleNet, self).__init__()\n",
    "                 self.fc1 = nn.Linear(3*64*64, 1024)\n",
    "                 self.fc2 = nn.Linear(1024, 128)\n",
    "                 self.fc3 = nn.Linear(128, n_classes)\n",
    "                 \n",
    "    def forward(self, x):\n",
    "                 x = torch.flatten(x, 1)\n",
    "                 x = self.fc1(x)\n",
    "                 x = torch.relu(x)\n",
    "                 x = self.fc2(x)\n",
    "                 x = torch.relu(x)\n",
    "                 x = self.fc3(x)\n",
    "                 return x"
   ]
  },
  {
   "cell_type": "code",
   "execution_count": 4,
   "id": "460a071e",
   "metadata": {},
   "outputs": [],
   "source": [
    "# Model\n",
    "model = simpleNet()\n",
    "model = model.to(device)\n",
    "\n",
    "# Loss function\n",
    "criterion = nn.CrossEntropyLoss()\n",
    "\n",
    "# Optimizer\n",
    "optimizer = optim.Adam(model.parameters())"
   ]
  },
  {
   "cell_type": "code",
   "execution_count": 5,
   "id": "7043223d",
   "metadata": {},
   "outputs": [
    {
     "data": {
      "text/plain": [
       "simpleNet(\n",
       "  (fc1): Linear(in_features=12288, out_features=1024, bias=True)\n",
       "  (fc2): Linear(in_features=1024, out_features=128, bias=True)\n",
       "  (fc3): Linear(in_features=128, out_features=2, bias=True)\n",
       ")"
      ]
     },
     "execution_count": 5,
     "metadata": {},
     "output_type": "execute_result"
    }
   ],
   "source": [
    "# Print model\n",
    "model"
   ]
  },
  {
   "cell_type": "code",
   "execution_count": 6,
   "id": "050d2017",
   "metadata": {},
   "outputs": [],
   "source": [
    "# Number of epoch\n",
    "n_epoch = len(dataloader)\n",
    "\n",
    "# Initial learning rate \n",
    "i_lr = 1e-8\n",
    "\n",
    "# Final learning rate\n",
    "f_lr = 10.0\n",
    "\n",
    "# Optimizer's learning rate\n",
    "optimizer.param_groups[0][\"lr\"] = i_lr\n",
    "\n",
    "# Step size for optimizer's learning rate\n",
    "update_step = (f_lr / i_lr) ** (1 / n_epoch)\n",
    "\n",
    "# Best loss\n",
    "best_loss = float('inf')\n",
    "\n",
    "# Best learning rate\n",
    "best_lr = i_lr\n",
    "\n",
    "# Log for losses\n",
    "log_loss = []\n",
    "\n",
    "# Log for learning rate\n",
    "log_lr = []\n",
    "\n",
    "# Batch No\n",
    "batch_no = 1\n",
    "\n",
    "# Loop for finding learning rate\n",
    "for batch in dataloader:\n",
    "    X, y = batch\n",
    "    X, y = X.to(device), y.to(device)\n",
    "    optimizer.zero_grad()\n",
    "    y_hat = model(X)\n",
    "    loss = criterion(y_hat, y)\n",
    "    # Handling loss explosion\n",
    "    if batch_no > 1 and loss > 4 * best_loss:\n",
    "        break\n",
    "    # If loss is < best loss\n",
    "    elif loss < best_loss or batch_no == 1:\n",
    "        best_loss = loss\n",
    "        best_lr = optimizer.param_groups[0][\"lr\"]\n",
    "    log_loss.append(loss.item())\n",
    "    log_lr.append(optimizer.param_groups[0][\"lr\"])\n",
    "    loss.backward()\n",
    "    optimizer.step()\n",
    "    # Update optimizer's learning rate\n",
    "    optimizer.param_groups[0][\"lr\"] *= update_step\n",
    "    # Update batch no\n",
    "    batch_no += 1"
   ]
  },
  {
   "cell_type": "code",
   "execution_count": 7,
   "id": "15213000",
   "metadata": {},
   "outputs": [
    {
     "data": {
      "image/png": "[encoded data removed]",
      "text/plain": [
       "<Figure size 432x288 with 1 Axes>"
      ]
     },
     "metadata": {
      "needs_background": "light"
     },
     "output_type": "display_data"
    }
   ],
   "source": [
    "# Plot loss vs learning rate curve\n",
    "plt.plot(log_lr, log_loss)\n",
    "plt.xscale(\"log\")\n",
    "plt.title(f\"Best learning rate: {round(best_lr, 8)}\")\n",
    "plt.xlabel(\"Learning rate\")\n",
    "plt.ylabel(\"Loss\")\n",
    "plt.show()"
   ]
  }
 ],
 "metadata": {
  "kernelspec": {
   "display_name": "Python 3 (ipykernel)",
   "language": "python",
   "name": "python3"
  },
  "language_info": {
   "codemirror_mode": {
    "name": "ipython",
    "version": 3
   },
   "file_extension": ".py",
   "mimetype": "text/x-python",
   "name": "python",
   "nbconvert_exporter": "python",
   "pygments_lexer": "ipython3",
   "version": "3.11.0"
  }
 },
 "nbformat": 4,
 "nbformat_minor": 5
}
