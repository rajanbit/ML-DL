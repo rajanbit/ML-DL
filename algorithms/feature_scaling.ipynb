{
 "cells": [
  {
   "cell_type": "markdown",
   "id": "4bc297e3",
   "metadata": {},
   "source": [
    "# Feature Scaling Methods for ML"
   ]
  },
  {
   "cell_type": "code",
   "execution_count": 1,
   "id": "95477d0b",
   "metadata": {},
   "outputs": [],
   "source": [
    "# Importing modules\n",
    "import numpy as np\n",
    "import pandas as pd"
   ]
  },
  {
   "cell_type": "code",
   "execution_count": 2,
   "id": "f3e9a1ce",
   "metadata": {},
   "outputs": [
    {
     "name": "stdout",
     "output_type": "stream",
     "text": [
      "      x1   x2    x3   y\n",
      "0   1000   10   100   1\n",
      "1   2000   20   200   2\n",
      "2   3000   30   300   3\n",
      "3   4000   40   400   4\n",
      "4   5000   50   500   5\n",
      "5  10000  100  1000  10\n"
     ]
    }
   ],
   "source": [
    "# Raw dataset as numpy array\n",
    "x = np.array([[1000, 10, 100], [2000, 20, 200], [3000, 30, 300], [4000, 40, 400], [5000, 50, 500], [10000, 100, 1000]])\n",
    "y = np.array([1, 2, 3, 4, 5, 10])\n",
    "\n",
    "# Dataset as pandas dataframe\n",
    "df_x = pd.DataFrame(x, columns=[\"x1\", \"x2\", \"x3\"])\n",
    "df_y = pd.DataFrame(y, columns=[\"y\"])\n",
    "raw_df = pd.concat([df_x, df_y], axis=1)\n",
    "\n",
    "print(raw_df)"
   ]
  },
  {
   "cell_type": "markdown",
   "id": "faafe32e",
   "metadata": {},
   "source": [
    "## 1. Max Normalization"
   ]
  },
  {
   "cell_type": "code",
   "execution_count": 3,
   "id": "ff8c19ff",
   "metadata": {},
   "outputs": [
    {
     "name": "stdout",
     "output_type": "stream",
     "text": [
      "    x1   x2   x3   y\n",
      "0  0.1  0.1  0.1   1\n",
      "1  0.2  0.2  0.2   2\n",
      "2  0.3  0.3  0.3   3\n",
      "3  0.4  0.4  0.4   4\n",
      "4  0.5  0.5  0.5   5\n",
      "5  1.0  1.0  1.0  10\n"
     ]
    }
   ],
   "source": [
    "# Max Normalization\n",
    "def max_norm(df):\n",
    "    \n",
    "    # pandas series with max value for each column\n",
    "    max_series = df.max()\n",
    "    \n",
    "    # dividing each column with max value\n",
    "    norm_df = df.divide(max_series, axis=1)\n",
    "    \n",
    "    return norm_df\n",
    "\n",
    "max_norm_df = pd.concat([max_norm(df_x), df_y], axis=1)\n",
    "\n",
    "print(max_norm_df)"
   ]
  },
  {
   "cell_type": "markdown",
   "id": "643ca7cf",
   "metadata": {},
   "source": [
    "## 2. Mean Normalization"
   ]
  },
  {
   "cell_type": "code",
   "execution_count": 4,
   "id": "892d9af0",
   "metadata": {},
   "outputs": [
    {
     "name": "stdout",
     "output_type": "stream",
     "text": [
      "     x1    x2    x3   y\n",
      "0  0.24  0.24  0.24   1\n",
      "1  0.48  0.48  0.48   2\n",
      "2  0.72  0.72  0.72   3\n",
      "3  0.96  0.96  0.96   4\n",
      "4  1.20  1.20  1.20   5\n",
      "5  2.40  2.40  2.40  10\n"
     ]
    }
   ],
   "source": [
    "# Mean Normalization\n",
    "def mean_norm(df):\n",
    "    \n",
    "    # pandas series with mean value for each column\n",
    "    mean_series = df.mean()\n",
    "    \n",
    "    # dividing each column with mean value\n",
    "    norm_df = df.divide(mean_series, axis=1)\n",
    "    \n",
    "    return norm_df\n",
    "\n",
    "mean_norm_df = pd.concat([mean_norm(df_x), df_y], axis=1)\n",
    "\n",
    "print(mean_norm_df)"
   ]
  },
  {
   "cell_type": "markdown",
   "id": "b4ced1e6",
   "metadata": {},
   "source": [
    "## 3. Z-score Normalization"
   ]
  },
  {
   "cell_type": "code",
   "execution_count": 5,
   "id": "929a0dab",
   "metadata": {},
   "outputs": [
    {
     "name": "stdout",
     "output_type": "stream",
     "text": [
      "         x1        x2        x3   y\n",
      "0 -0.993146 -0.993146 -0.993146   1\n",
      "1 -0.679521 -0.679521 -0.679521   2\n",
      "2 -0.365896 -0.365896 -0.365896   3\n",
      "3 -0.052271 -0.052271 -0.052271   4\n",
      "4  0.261354  0.261354  0.261354   5\n",
      "5  1.829479  1.829479  1.829479  10\n"
     ]
    }
   ],
   "source": [
    "# Z-score Normalization\n",
    "def z_score_norm(df):\n",
    "    # pandas series with mean value for each column\n",
    "    mean_series = df.mean()\n",
    "    # pandas series with std value for each column\n",
    "    std_series = df.std()\n",
    "    \n",
    "    # substracting each column with mean value and creating new df\n",
    "    df_minus_mean = df.subtract(mean_series, axis=1)\n",
    "    # dividing each column of new df with std value\n",
    "    norm_df = df_minus_mean.divide(std_series, axis=1)\n",
    "    \n",
    "    return norm_df\n",
    "\n",
    "z_score_norm_df = pd.concat([z_score_norm(df_x), df_y], axis=1)\n",
    "\n",
    "print(z_score_norm_df)"
   ]
  }
 ],
 "metadata": {
  "kernelspec": {
   "display_name": "Python 3 (ipykernel)",
   "language": "python",
   "name": "python3"
  },
  "language_info": {
   "codemirror_mode": {
    "name": "ipython",
    "version": 3
   },
   "file_extension": ".py",
   "mimetype": "text/x-python",
   "name": "python",
   "nbconvert_exporter": "python",
   "pygments_lexer": "ipython3",
   "version": "3.11.4"
  }
 },
 "nbformat": 4,
 "nbformat_minor": 5
}
