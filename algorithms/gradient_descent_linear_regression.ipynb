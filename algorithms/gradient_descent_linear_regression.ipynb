{
 "cells": [
  {
   "cell_type": "markdown",
   "id": "7bf8b8d8",
   "metadata": {},
   "source": [
    "# Python Implementation of Gradient Descent Algorithm\n",
    "### Gradient descent is an optimization algorithm which is commonly-used to train machine learning models and neural networks"
   ]
  },
  {
   "cell_type": "code",
   "execution_count": 1,
   "id": "c805c102",
   "metadata": {},
   "outputs": [],
   "source": [
    "# Importing modules\n",
    "import pandas as pd"
   ]
  },
  {
   "cell_type": "code",
   "execution_count": 2,
   "id": "3cd6662a",
   "metadata": {},
   "outputs": [],
   "source": [
    "# Training data\n",
    "x = [1, 2]\n",
    "y = [300, 500]"
   ]
  },
  {
   "cell_type": "code",
   "execution_count": 3,
   "id": "c0f77dfe",
   "metadata": {},
   "outputs": [],
   "source": [
    "# Function computing cost (J)\n",
    "def compute_cost(x, y, w, b):\n",
    "    \n",
    "    m = len(x)\n",
    "    cost = 0\n",
    "    \n",
    "    for i in range(0, m):\n",
    "        fx = (w * x[i]) + b\n",
    "        cost += (fx - y[i])**2\n",
    "        \n",
    "    total_cost = (1/(2*m))*cost\n",
    "    \n",
    "    return total_cost"
   ]
  },
  {
   "cell_type": "code",
   "execution_count": 4,
   "id": "4de38681",
   "metadata": {},
   "outputs": [],
   "source": [
    "# Function computing (w, b)\n",
    "def compute_gradient(x, y, w, b, alpha):\n",
    "    \n",
    "    m = len(x)\n",
    "    dj_dw = 0\n",
    "    dj_db = 0\n",
    "    \n",
    "    for i in range(0, m):\n",
    "        fx = (w * x[i]) + b\n",
    "        temp_dj_dw = (fx - y[i])*x[i]\n",
    "        temp_dj_db = fx - y[i]\n",
    "        dj_dw += temp_dj_dw\n",
    "        dj_db += temp_dj_db\n",
    "    \n",
    "    w = w - alpha*(dj_dw/m)\n",
    "    b = b - alpha*(dj_db/m)\n",
    "    \n",
    "    return [w, b]"
   ]
  },
  {
   "cell_type": "code",
   "execution_count": 5,
   "id": "4edcba66",
   "metadata": {},
   "outputs": [],
   "source": [
    "# Initializing parameters\n",
    "init_w = 0\n",
    "init_b = 0\n",
    "alpha = 1.0e-1\n",
    "iterations = 1000\n",
    "\n",
    "# Initialining variables\n",
    "history_j =[]\n",
    "history_w = []\n",
    "history_b = []\n",
    "\n",
    "# Executing Gradient Descent\n",
    "w = init_w\n",
    "b = init_b\n",
    "for i in range(0, iterations+1):\n",
    "    cost = compute_cost(x, y, w, b)\n",
    "    parameters = compute_gradient(x, y, w, b, alpha)\n",
    "    history_j.append(cost)\n",
    "    history_w.append(parameters[0])\n",
    "    history_b.append(parameters[1])\n",
    "    w = parameters[0]\n",
    "    b = parameters[1]"
   ]
  },
  {
   "cell_type": "code",
   "execution_count": 6,
   "id": "062c7126",
   "metadata": {},
   "outputs": [
    {
     "data": {
      "text/html": [
       "<div>\n",
       "<style scoped>\n",
       "    .dataframe tbody tr th:only-of-type {\n",
       "        vertical-align: middle;\n",
       "    }\n",
       "\n",
       "    .dataframe tbody tr th {\n",
       "        vertical-align: top;\n",
       "    }\n",
       "\n",
       "    .dataframe thead th {\n",
       "        text-align: right;\n",
       "    }\n",
       "</style>\n",
       "<table border=\"1\" class=\"dataframe\">\n",
       "  <thead>\n",
       "    <tr style=\"text-align: right;\">\n",
       "      <th></th>\n",
       "      <th>J_wb</th>\n",
       "      <th>w</th>\n",
       "      <th>b</th>\n",
       "    </tr>\n",
       "  </thead>\n",
       "  <tbody>\n",
       "    <tr>\n",
       "      <th>0</th>\n",
       "      <td>85000.000000</td>\n",
       "      <td>65.000000</td>\n",
       "      <td>40.000000</td>\n",
       "    </tr>\n",
       "    <tr>\n",
       "      <th>1</th>\n",
       "      <td>36731.250000</td>\n",
       "      <td>107.750000</td>\n",
       "      <td>66.250000</td>\n",
       "    </tr>\n",
       "    <tr>\n",
       "      <th>2</th>\n",
       "      <td>15877.265625</td>\n",
       "      <td>135.875000</td>\n",
       "      <td>83.462500</td>\n",
       "    </tr>\n",
       "    <tr>\n",
       "      <th>3</th>\n",
       "      <td>6867.464766</td>\n",
       "      <td>154.386875</td>\n",
       "      <td>94.735000</td>\n",
       "    </tr>\n",
       "    <tr>\n",
       "      <th>4</th>\n",
       "      <td>2974.786233</td>\n",
       "      <td>166.579906</td>\n",
       "      <td>102.103469</td>\n",
       "    </tr>\n",
       "    <tr>\n",
       "      <th>...</th>\n",
       "      <td>...</td>\n",
       "      <td>...</td>\n",
       "      <td>...</td>\n",
       "    </tr>\n",
       "    <tr>\n",
       "      <th>996</th>\n",
       "      <td>0.000007</td>\n",
       "      <td>199.992866</td>\n",
       "      <td>100.011543</td>\n",
       "    </tr>\n",
       "    <tr>\n",
       "      <th>997</th>\n",
       "      <td>0.000007</td>\n",
       "      <td>199.992918</td>\n",
       "      <td>100.011459</td>\n",
       "    </tr>\n",
       "    <tr>\n",
       "      <th>998</th>\n",
       "      <td>0.000007</td>\n",
       "      <td>199.992970</td>\n",
       "      <td>100.011376</td>\n",
       "    </tr>\n",
       "    <tr>\n",
       "      <th>999</th>\n",
       "      <td>0.000007</td>\n",
       "      <td>199.993021</td>\n",
       "      <td>100.011293</td>\n",
       "    </tr>\n",
       "    <tr>\n",
       "      <th>1000</th>\n",
       "      <td>0.000006</td>\n",
       "      <td>199.993072</td>\n",
       "      <td>100.011210</td>\n",
       "    </tr>\n",
       "  </tbody>\n",
       "</table>\n",
       "<p>1001 rows × 3 columns</p>\n",
       "</div>"
      ],
      "text/plain": [
       "              J_wb           w           b\n",
       "0     85000.000000   65.000000   40.000000\n",
       "1     36731.250000  107.750000   66.250000\n",
       "2     15877.265625  135.875000   83.462500\n",
       "3      6867.464766  154.386875   94.735000\n",
       "4      2974.786233  166.579906  102.103469\n",
       "...            ...         ...         ...\n",
       "996       0.000007  199.992866  100.011543\n",
       "997       0.000007  199.992918  100.011459\n",
       "998       0.000007  199.992970  100.011376\n",
       "999       0.000007  199.993021  100.011293\n",
       "1000      0.000006  199.993072  100.011210\n",
       "\n",
       "[1001 rows x 3 columns]"
      ]
     },
     "execution_count": 6,
     "metadata": {},
     "output_type": "execute_result"
    }
   ],
   "source": [
    "# Dataframe\n",
    "pd.DataFrame({'J_wb':history_j, 'w':history_w, 'b':history_b})"
   ]
  },
  {
   "cell_type": "code",
   "execution_count": 7,
   "id": "3b324288",
   "metadata": {},
   "outputs": [
    {
     "name": "stdout",
     "output_type": "stream",
     "text": [
      "2099.941927496355\n"
     ]
    }
   ],
   "source": [
    "# Make prediction\n",
    "new_x = 10\n",
    "print((history_w[-1]*new_x)+history_b[-1])"
   ]
  }
 ],
 "metadata": {
  "kernelspec": {
   "display_name": "Python 3 (ipykernel)",
   "language": "python",
   "name": "python3"
  },
  "language_info": {
   "codemirror_mode": {
    "name": "ipython",
    "version": 3
   },
   "file_extension": ".py",
   "mimetype": "text/x-python",
   "name": "python",
   "nbconvert_exporter": "python",
   "pygments_lexer": "ipython3",
   "version": "3.11.0"
  }
 },
 "nbformat": 4,
 "nbformat_minor": 5
}
